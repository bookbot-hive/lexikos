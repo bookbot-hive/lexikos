{
 "cells": [
  {
   "cell_type": "code",
   "execution_count": 1,
   "metadata": {},
   "outputs": [],
   "source": [
    "import urllib.request\n",
    "\n",
    "url = \"https://raw.githubusercontent.com/menelik3/cmudict-ipa/master/cmudict-0.7b-ipa.txt\"\n",
    "lines = urllib.request.urlopen(url).read().decode().splitlines()"
   ]
  },
  {
   "cell_type": "code",
   "execution_count": 2,
   "metadata": {},
   "outputs": [
    {
     "data": {
      "text/plain": [
       "['!EXCLAMATION-POINT\\tˌɛkskləˈmeɪʃənˌpɔɪnt',\n",
       " '\"CLOSE-QUOTE\\tˈkloʊzˈkwoʊt',\n",
       " '\"DOUBLE-QUOTE\\tˈdʌbəlˈkwoʊt',\n",
       " '\"END-OF-QUOTE\\tˈɛndəvˈkwoʊt',\n",
       " '\"END-QUOTE\\tˈɛndˈkwoʊt']"
      ]
     },
     "execution_count": 2,
     "metadata": {},
     "output_type": "execute_result"
    }
   ],
   "source": [
    "lines[:5]"
   ]
  },
  {
   "cell_type": "code",
   "execution_count": 3,
   "metadata": {},
   "outputs": [],
   "source": [
    "from segments import Tokenizer\n",
    "\n",
    "tokenizer = Tokenizer()\n",
    "\n",
    "data = []\n",
    "for line in lines:\n",
    "    word, prons = line.split(\"\\t\")\n",
    "    prons = prons.split(\",\")\n",
    "    for pron in prons:\n",
    "        data.append({\"grapheme\": word, \"phoneme\": tokenizer(pron, ipa=True)})"
   ]
  },
  {
   "cell_type": "code",
   "execution_count": 4,
   "metadata": {},
   "outputs": [
    {
     "data": {
      "text/plain": [
       "[{'grapheme': '!EXCLAMATION-POINT',\n",
       "  'phoneme': 'ˌɛ k s k l ə ˈm e ɪ ʃ ə n ˌp ɔ ɪ n t'},\n",
       " {'grapheme': '\"CLOSE-QUOTE', 'phoneme': 'ˈk l o ʊ z ˈk w o ʊ t'},\n",
       " {'grapheme': '\"DOUBLE-QUOTE', 'phoneme': 'ˈd ʌ b ə l ˈk w o ʊ t'},\n",
       " {'grapheme': '\"END-OF-QUOTE', 'phoneme': 'ˈɛ n d ə v ˈk w o ʊ t'},\n",
       " {'grapheme': '\"END-QUOTE', 'phoneme': 'ˈɛ n d ˈk w o ʊ t'}]"
      ]
     },
     "execution_count": 4,
     "metadata": {},
     "output_type": "execute_result"
    }
   ],
   "source": [
    "data[:5]"
   ]
  },
  {
   "cell_type": "code",
   "execution_count": 5,
   "metadata": {},
   "outputs": [
    {
     "data": {
      "text/html": [
       "<div>\n",
       "<style scoped>\n",
       "    .dataframe tbody tr th:only-of-type {\n",
       "        vertical-align: middle;\n",
       "    }\n",
       "\n",
       "    .dataframe tbody tr th {\n",
       "        vertical-align: top;\n",
       "    }\n",
       "\n",
       "    .dataframe thead th {\n",
       "        text-align: right;\n",
       "    }\n",
       "</style>\n",
       "<table border=\"1\" class=\"dataframe\">\n",
       "  <thead>\n",
       "    <tr style=\"text-align: right;\">\n",
       "      <th></th>\n",
       "      <th>grapheme</th>\n",
       "      <th>phoneme</th>\n",
       "    </tr>\n",
       "  </thead>\n",
       "  <tbody>\n",
       "    <tr>\n",
       "      <th>0</th>\n",
       "      <td>!EXCLAMATION-POINT</td>\n",
       "      <td>ˌɛ k s k l ə ˈm e ɪ ʃ ə n ˌp ɔ ɪ n t</td>\n",
       "    </tr>\n",
       "    <tr>\n",
       "      <th>1</th>\n",
       "      <td>\"CLOSE-QUOTE</td>\n",
       "      <td>ˈk l o ʊ z ˈk w o ʊ t</td>\n",
       "    </tr>\n",
       "    <tr>\n",
       "      <th>2</th>\n",
       "      <td>\"DOUBLE-QUOTE</td>\n",
       "      <td>ˈd ʌ b ə l ˈk w o ʊ t</td>\n",
       "    </tr>\n",
       "    <tr>\n",
       "      <th>3</th>\n",
       "      <td>\"END-OF-QUOTE</td>\n",
       "      <td>ˈɛ n d ə v ˈk w o ʊ t</td>\n",
       "    </tr>\n",
       "    <tr>\n",
       "      <th>4</th>\n",
       "      <td>\"END-QUOTE</td>\n",
       "      <td>ˈɛ n d ˈk w o ʊ t</td>\n",
       "    </tr>\n",
       "    <tr>\n",
       "      <th>...</th>\n",
       "      <td>...</td>\n",
       "      <td>...</td>\n",
       "    </tr>\n",
       "    <tr>\n",
       "      <th>133849</th>\n",
       "      <td>{BRACE</td>\n",
       "      <td>ˈb r e ɪ s</td>\n",
       "    </tr>\n",
       "    <tr>\n",
       "      <th>133850</th>\n",
       "      <td>{LEFT-BRACE</td>\n",
       "      <td>ˈl ɛ f t ˈb r e ɪ s</td>\n",
       "    </tr>\n",
       "    <tr>\n",
       "      <th>133851</th>\n",
       "      <td>{OPEN-BRACE</td>\n",
       "      <td>ˈo ʊ p ɛ n ˈb r e ɪ s</td>\n",
       "    </tr>\n",
       "    <tr>\n",
       "      <th>133852</th>\n",
       "      <td>}CLOSE-BRACE</td>\n",
       "      <td>ˈk l o ʊ z ˈb r e ɪ s</td>\n",
       "    </tr>\n",
       "    <tr>\n",
       "      <th>133853</th>\n",
       "      <td>}RIGHT-BRACE</td>\n",
       "      <td>ˈr a ɪ t ˈb r e ɪ s</td>\n",
       "    </tr>\n",
       "  </tbody>\n",
       "</table>\n",
       "<p>133854 rows × 2 columns</p>\n",
       "</div>"
      ],
      "text/plain": [
       "                  grapheme                               phoneme\n",
       "0       !EXCLAMATION-POINT  ˌɛ k s k l ə ˈm e ɪ ʃ ə n ˌp ɔ ɪ n t\n",
       "1             \"CLOSE-QUOTE                 ˈk l o ʊ z ˈk w o ʊ t\n",
       "2            \"DOUBLE-QUOTE                 ˈd ʌ b ə l ˈk w o ʊ t\n",
       "3            \"END-OF-QUOTE                 ˈɛ n d ə v ˈk w o ʊ t\n",
       "4               \"END-QUOTE                     ˈɛ n d ˈk w o ʊ t\n",
       "...                    ...                                   ...\n",
       "133849              {BRACE                            ˈb r e ɪ s\n",
       "133850         {LEFT-BRACE                   ˈl ɛ f t ˈb r e ɪ s\n",
       "133851         {OPEN-BRACE                 ˈo ʊ p ɛ n ˈb r e ɪ s\n",
       "133852        }CLOSE-BRACE                 ˈk l o ʊ z ˈb r e ɪ s\n",
       "133853        }RIGHT-BRACE                   ˈr a ɪ t ˈb r e ɪ s\n",
       "\n",
       "[133854 rows x 2 columns]"
      ]
     },
     "execution_count": 5,
     "metadata": {},
     "output_type": "execute_result"
    }
   ],
   "source": [
    "import pandas as pd\n",
    "\n",
    "df = pd.DataFrame(data)\n",
    "df"
   ]
  },
  {
   "cell_type": "code",
   "execution_count": 6,
   "metadata": {},
   "outputs": [],
   "source": [
    "df.to_csv(\"../dict/cmudict-ipa/cmudict-0.7b-ipa-segmented.tsv\", index=False, header=False, sep=\"\\t\")"
   ]
  },
  {
   "cell_type": "code",
   "execution_count": null,
   "metadata": {},
   "outputs": [],
   "source": []
  }
 ],
 "metadata": {
  "kernelspec": {
   "display_name": "base",
   "language": "python",
   "name": "python3"
  },
  "language_info": {
   "codemirror_mode": {
    "name": "ipython",
    "version": 3
   },
   "file_extension": ".py",
   "mimetype": "text/x-python",
   "name": "python",
   "nbconvert_exporter": "python",
   "pygments_lexer": "ipython3",
   "version": "3.9.12"
  },
  "orig_nbformat": 4
 },
 "nbformat": 4,
 "nbformat_minor": 2
}
