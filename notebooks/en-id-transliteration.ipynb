{
 "cells": [
  {
   "cell_type": "code",
   "execution_count": 1,
   "metadata": {},
   "outputs": [
    {
     "name": "stderr",
     "output_type": "stream",
     "text": [
      "/usr/local/lib/python3.10/dist-packages/tqdm/auto.py:21: TqdmWarning: IProgress not found. Please update jupyter and ipywidgets. See https://ipywidgets.readthedocs.io/en/stable/user_install.html\n",
      "  from .autonotebook import tqdm as notebook_tqdm\n"
     ]
    }
   ],
   "source": [
    "from lexikos import Lexicon\n",
    "lexicon = Lexicon()"
   ]
  },
  {
   "cell_type": "code",
   "execution_count": 4,
   "metadata": {},
   "outputs": [],
   "source": [
    "import pandas as pd\n",
    "\n",
    "df = pd.read_csv(\"../lexikos/dict/cmudict-ipa/librispeech-lexicon-200k-allothers-g2p-ipa.tsv\", sep=\"\\t\", names=[\"word\", \"phoneme\"])\n",
    "df[\"phoneme\"] = df[\"phoneme\"].apply(lexicon._normalize_phonemes)\n",
    "df = df[df[\"phoneme\"].apply(lambda x: len(x.split()) > 1)].sort_values(by=['word'])\n",
    "df[\"phoneme\"] = df[\"phoneme\"].apply(lambda x: x.replace(\" . \", \" \"))"
   ]
  },
  {
   "cell_type": "code",
   "execution_count": 6,
   "metadata": {},
   "outputs": [],
   "source": [
    "phonemes = set([p for phoneme in df[\"phoneme\"] for p in phoneme.split()])"
   ]
  },
  {
   "cell_type": "code",
   "execution_count": 7,
   "metadata": {},
   "outputs": [],
   "source": [
    "mapping = {\n",
    "    \"v\": \"f\",\n",
    "    \"ð\": \"t\",\n",
    "    \"ɝ\": \"ə ɹ\",\n",
    "    \"θ\": \"t\",\n",
    "}"
   ]
  },
  {
   "cell_type": "code",
   "execution_count": 8,
   "metadata": {},
   "outputs": [],
   "source": [
    "def transliterate(phonemes):\n",
    "    for k, v in mapping.items():\n",
    "        phonemes = phonemes.replace(k, v)\n",
    "    return phonemes"
   ]
  },
  {
   "cell_type": "code",
   "execution_count": 9,
   "metadata": {},
   "outputs": [],
   "source": [
    "df[\"phoneme_id\"] = df[\"phoneme\"].apply(transliterate)"
   ]
  },
  {
   "cell_type": "code",
   "execution_count": 10,
   "metadata": {},
   "outputs": [
    {
     "data": {
      "text/html": [
       "<div>\n",
       "<style scoped>\n",
       "    .dataframe tbody tr th:only-of-type {\n",
       "        vertical-align: middle;\n",
       "    }\n",
       "\n",
       "    .dataframe tbody tr th {\n",
       "        vertical-align: top;\n",
       "    }\n",
       "\n",
       "    .dataframe thead th {\n",
       "        text-align: right;\n",
       "    }\n",
       "</style>\n",
       "<table border=\"1\" class=\"dataframe\">\n",
       "  <thead>\n",
       "    <tr style=\"text-align: right;\">\n",
       "      <th></th>\n",
       "      <th>word</th>\n",
       "      <th>phoneme_id</th>\n",
       "    </tr>\n",
       "  </thead>\n",
       "  <tbody>\n",
       "    <tr>\n",
       "      <th>0</th>\n",
       "      <td>a'ter</td>\n",
       "      <td>eɪ t ə ɹ</td>\n",
       "    </tr>\n",
       "    <tr>\n",
       "      <th>1</th>\n",
       "      <td>a'ternoon</td>\n",
       "      <td>eɪ t ə ɹ n u n</td>\n",
       "    </tr>\n",
       "    <tr>\n",
       "      <th>2</th>\n",
       "      <td>a'terwards</td>\n",
       "      <td>eɪ t ə ɹ w ə ɹ d z</td>\n",
       "    </tr>\n",
       "    <tr>\n",
       "      <th>3</th>\n",
       "      <td>a'thegither</td>\n",
       "      <td>eɪ t ə dʒ ɪ t ə ɹ</td>\n",
       "    </tr>\n",
       "    <tr>\n",
       "      <th>4</th>\n",
       "      <td>a'thing</td>\n",
       "      <td>eɪ t ɪ ŋ</td>\n",
       "    </tr>\n",
       "    <tr>\n",
       "      <th>...</th>\n",
       "      <td>...</td>\n",
       "      <td>...</td>\n",
       "    </tr>\n",
       "    <tr>\n",
       "      <th>59463</th>\n",
       "      <td>zwemer</td>\n",
       "      <td>z w i m ə ɹ</td>\n",
       "    </tr>\n",
       "    <tr>\n",
       "      <th>59464</th>\n",
       "      <td>zwengler</td>\n",
       "      <td>z w ɪ ŋ ə l ə ɹ</td>\n",
       "    </tr>\n",
       "    <tr>\n",
       "      <th>59465</th>\n",
       "      <td>zwillievic</td>\n",
       "      <td>z w ɪ l j ə f ɪ k</td>\n",
       "    </tr>\n",
       "    <tr>\n",
       "      <th>59466</th>\n",
       "      <td>zwinger</td>\n",
       "      <td>z w ɪ ŋ ə ɹ</td>\n",
       "    </tr>\n",
       "    <tr>\n",
       "      <th>59467</th>\n",
       "      <td>zyarulla</td>\n",
       "      <td>z aɪ ə ɹ u l ə</td>\n",
       "    </tr>\n",
       "  </tbody>\n",
       "</table>\n",
       "<p>59468 rows × 2 columns</p>\n",
       "</div>"
      ],
      "text/plain": [
       "              word          phoneme_id\n",
       "0            a'ter            eɪ t ə ɹ\n",
       "1        a'ternoon      eɪ t ə ɹ n u n\n",
       "2       a'terwards  eɪ t ə ɹ w ə ɹ d z\n",
       "3      a'thegither   eɪ t ə dʒ ɪ t ə ɹ\n",
       "4          a'thing            eɪ t ɪ ŋ\n",
       "...            ...                 ...\n",
       "59463       zwemer         z w i m ə ɹ\n",
       "59464     zwengler     z w ɪ ŋ ə l ə ɹ\n",
       "59465   zwillievic   z w ɪ l j ə f ɪ k\n",
       "59466      zwinger         z w ɪ ŋ ə ɹ\n",
       "59467     zyarulla      z aɪ ə ɹ u l ə\n",
       "\n",
       "[59468 rows x 2 columns]"
      ]
     },
     "execution_count": 10,
     "metadata": {},
     "output_type": "execute_result"
    }
   ],
   "source": [
    "df = df[df[\"phoneme\"] != df[\"phoneme_id\"]]\n",
    "df = df.drop([\"phoneme\"], axis=1).reset_index(drop=True)\n",
    "df"
   ]
  },
  {
   "cell_type": "code",
   "execution_count": null,
   "metadata": {},
   "outputs": [],
   "source": [
    "df.to_csv(\"../lexikos/dict/synthetic/librispeech-lexicon-en-id.tsv\", sep=\"\\t\", index=False, header=None)"
   ]
  },
  {
   "cell_type": "code",
   "execution_count": null,
   "metadata": {},
   "outputs": [],
   "source": []
  }
 ],
 "metadata": {
  "kernelspec": {
   "display_name": "Python 3",
   "language": "python",
   "name": "python3"
  },
  "language_info": {
   "codemirror_mode": {
    "name": "ipython",
    "version": 3
   },
   "file_extension": ".py",
   "mimetype": "text/x-python",
   "name": "python",
   "nbconvert_exporter": "python",
   "pygments_lexer": "ipython3",
   "version": "3.10.6"
  },
  "orig_nbformat": 4
 },
 "nbformat": 4,
 "nbformat_minor": 2
}
